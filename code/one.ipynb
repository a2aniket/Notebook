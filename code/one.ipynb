{
 "cells": [
  {
   "cell_type": "code",
   "execution_count": 24,
   "id": "4f64febc-0c33-42c4-990b-56f1221f87d2",
   "metadata": {},
   "outputs": [
    {
     "name": "stdout",
     "output_type": "stream",
     "text": [
      "[1, 1, 2, 2, 3]\n"
     ]
    }
   ],
   "source": [
    "#combinations\n",
    "coins=[1,2]\n",
    "n=4\n",
    "ways=[0]*(n+1)\n",
    "ways[0]=1\n",
    "for coin in coins:\n",
    "    for amount in range(coin,n+1):\n",
    "        ways[amount]+=ways[amount-coin]\n",
    "\n",
    "print(ways)"
   ]
  },
  {
   "cell_type": "code",
   "execution_count": 39,
   "id": "1231fb8b-71db-41be-ab54-ad2e7c40542c",
   "metadata": {},
   "outputs": [
    {
     "name": "stdout",
     "output_type": "stream",
     "text": [
      "[[]]\n",
      "[[1]]\n",
      "[[1, 1], [2]]\n",
      "[[1, 1, 1], [1, 2]]\n",
      "[[1, 1, 1, 1], [1, 1, 2], [2, 2]]\n"
     ]
    }
   ],
   "source": [
    "#print combanations\n",
    "coins=[1,2]\n",
    "n=4\n",
    "ways=[[] for _ in range(n+1)]\n",
    "ways[0]=[[]] \n",
    "for coin in coins:\n",
    "    for amount in range(coin,n+1):\n",
    "        for combinations in ways[amount-coin]:\n",
    "            ways[amount].append(combinations+[coin])\n",
    "\n",
    "for i in ways:\n",
    "    print(i)"
   ]
  },
  {
   "cell_type": "code",
   "execution_count": 45,
   "id": "c68cb2d2-4e0e-41e8-8ed2-4100c4abcdda",
   "metadata": {},
   "outputs": [
    {
     "name": "stdout",
     "output_type": "stream",
     "text": [
      "[1, 1, 2, 3]\n"
     ]
    }
   ],
   "source": [
    "#climbe two steps at a time\n",
    "n=3\n",
    "ways=[0]*(n+1)\n",
    "ways[0]=1\n",
    "ways[1]=1\n",
    "for steps in range(2,n+1):\n",
    "    ways[steps]=ways[steps-1]+ways[steps-2]\n",
    "print(ways)"
   ]
  },
  {
   "cell_type": "code",
   "execution_count": null,
   "id": "95106a6b-acf7-48a1-b3b2-228abd4ce469",
   "metadata": {},
   "outputs": [],
   "source": []
  }
 ],
 "metadata": {
  "kernelspec": {
   "display_name": "Python 3 (ipykernel)",
   "language": "python",
   "name": "python3"
  },
  "language_info": {
   "codemirror_mode": {
    "name": "ipython",
    "version": 3
   },
   "file_extension": ".py",
   "mimetype": "text/x-python",
   "name": "python",
   "nbconvert_exporter": "python",
   "pygments_lexer": "ipython3",
   "version": "3.12.7"
  }
 },
 "nbformat": 4,
 "nbformat_minor": 5
}
