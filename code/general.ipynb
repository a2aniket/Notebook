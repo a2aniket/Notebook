{
 "cells": [
  {
   "cell_type": "code",
   "execution_count": 18,
   "id": "3c86fd1b-5480-4d10-91bb-038bf24c4fc6",
   "metadata": {},
   "outputs": [
    {
     "name": "stdout",
     "output_type": "stream",
     "text": [
      "321\n"
     ]
    }
   ],
   "source": [
    "#reverse number\n",
    "n=123\n",
    "r=0\n",
    "while n:\n",
    "    rem=n%10\n",
    "    r=(r*10)+rem\n",
    "    n=n//10\n",
    "    \n",
    "print(r)"
   ]
  },
  {
   "cell_type": "code",
   "execution_count": 20,
   "id": "1d1cdc62-fc96-4eee-ad5a-0b7400b2ef5c",
   "metadata": {},
   "outputs": [
    {
     "name": "stdout",
     "output_type": "stream",
     "text": [
      "6\n"
     ]
    }
   ],
   "source": [
    "#sum of number\n",
    "n=123\n",
    "s=0\n",
    "while n:\n",
    "    rem=n%10\n",
    "    s+=rem\n",
    "    n=n//10\n",
    "print(s)"
   ]
  },
  {
   "cell_type": "code",
   "execution_count": 24,
   "id": "96272392-dd82-44ab-bb24-0ba75095f552",
   "metadata": {},
   "outputs": [
    {
     "name": "stdout",
     "output_type": "stream",
     "text": [
      "[2, 3, 4, 5, 6, 7]\n"
     ]
    }
   ],
   "source": [
    "#sorting\n",
    "l=[2,5,4,6,7,3]\n",
    "for i in range(len(l)):\n",
    "    for j in range(i,len(l)):\n",
    "        if l[i]>l[j]:\n",
    "            temp=l[j]\n",
    "            l[j]=l[i]\n",
    "            l[i]=temp\n",
    "print(l)"
   ]
  },
  {
   "cell_type": "code",
   "execution_count": 41,
   "id": "db7be89d-2183-4ed5-b9bb-06cfd492786b",
   "metadata": {},
   "outputs": [
    {
     "name": "stdout",
     "output_type": "stream",
     "text": [
      "[1, 3, 5, 6]\n",
      "[1, 3, 5, 6]\n",
      "[1, 3, 4, 6]\n"
     ]
    }
   ],
   "source": [
    "##remove num from list\n",
    "l=[1,3,4,5,6]\n",
    "l.pop(2)\n",
    "print(l)\n",
    "\n",
    "l=[1,3,4,5,6]\n",
    "del l[2]\n",
    "print(l)\n",
    "\n",
    "\n",
    "l=[1,3,4,5,6]\n",
    "l.remove(5)\n",
    "print(l)\n"
   ]
  },
  {
   "cell_type": "code",
   "execution_count": 58,
   "id": "afd9b125-ad14-4b06-93ea-84f26b0fdeef",
   "metadata": {},
   "outputs": [],
   "source": [
    "#prime number\n",
    "n=7\n",
    "for i in range(2,int(n//2)):\n",
    "    if n%i==0:\n",
    "        print(n,i)\n",
    "        print(\"not prime number\")"
   ]
  },
  {
   "cell_type": "code",
   "execution_count": 65,
   "id": "22239c44-f4f8-45c5-a1d5-58ef51526997",
   "metadata": {},
   "outputs": [
    {
     "name": "stdout",
     "output_type": "stream",
     "text": [
      "[0, 1, 1, 2, 3, 5, 8, 13, 21, 34]\n"
     ]
    }
   ],
   "source": [
    "#febonachi\n",
    "n=10\n",
    "result=[]\n",
    "result.append(0)\n",
    "result.append(1)\n",
    "for i in range(2,n):\n",
    "    result.append(result[i-1]+result[i-2])\n",
    "\n",
    "print(result)"
   ]
  },
  {
   "cell_type": "code",
   "execution_count": 68,
   "id": "807e176b-b1a3-4c4a-9ebd-4929a313654b",
   "metadata": {},
   "outputs": [
    {
     "data": {
      "text/plain": [
       "[1, 4, 4, 5, 6, 6]"
      ]
     },
     "execution_count": 68,
     "metadata": {},
     "output_type": "execute_result"
    }
   ],
   "source": [
    "l=[1,4,5,6,4,6]\n",
    "l.sort()\n",
    "l"
   ]
  },
  {
   "cell_type": "code",
   "execution_count": 70,
   "id": "5a85d4ab-70fa-4f84-b9f3-076fb730a397",
   "metadata": {},
   "outputs": [
    {
     "data": {
      "text/plain": [
       "153"
      ]
     },
     "execution_count": 70,
     "metadata": {},
     "output_type": "execute_result"
    }
   ],
   "source": [
    "#Armstrong\n",
    "n=153\n",
    "cal=0\n",
    "while n:\n",
    "    rem=n%10\n",
    "    cal+=rem**3\n",
    "    n=n//10\n",
    "cal\n",
    "    "
   ]
  },
  {
   "cell_type": "code",
   "execution_count": 85,
   "id": "d025dca6-5df2-4495-9933-08b621d7eb23",
   "metadata": {},
   "outputs": [
    {
     "name": "stdout",
     "output_type": "stream",
     "text": [
      "333\n",
      "222\n",
      "111\n",
      "33\n",
      "22\n",
      "11\n",
      "3\n",
      "2\n",
      "1\n"
     ]
    }
   ],
   "source": [
    "n=3\n",
    "for i in range(n,0,-1):\n",
    "    for j in range(n,0,-1):\n",
    "        print(str(j)*i)"
   ]
  },
  {
   "cell_type": "code",
   "execution_count": null,
   "id": "b9888190-3ad1-46fc-9895-152e003fcd22",
   "metadata": {},
   "outputs": [],
   "source": []
  },
  {
   "cell_type": "code",
   "execution_count": null,
   "id": "59802238-0343-428c-a1bf-ddf1fffd268d",
   "metadata": {},
   "outputs": [],
   "source": []
  }
 ],
 "metadata": {
  "kernelspec": {
   "display_name": "Python 3 (ipykernel)",
   "language": "python",
   "name": "python3"
  },
  "language_info": {
   "codemirror_mode": {
    "name": "ipython",
    "version": 3
   },
   "file_extension": ".py",
   "mimetype": "text/x-python",
   "name": "python",
   "nbconvert_exporter": "python",
   "pygments_lexer": "ipython3",
   "version": "3.12.7"
  }
 },
 "nbformat": 4,
 "nbformat_minor": 5
}
