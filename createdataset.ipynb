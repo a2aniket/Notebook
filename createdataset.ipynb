{
 "cells": [
  {
   "cell_type": "code",
   "execution_count": 1,
   "id": "aed7823f-5ef4-4dad-879a-7e9973b802da",
   "metadata": {},
   "outputs": [
    {
     "name": "stdout",
     "output_type": "stream",
     "text": [
      "inputs = [\"What is Aniket's current role and where does he work?\", \"What are Aniket's key areas of expertise in AI?\", \"Can you list some of Aniket's notable achievements and recognitions?\", 'What were the key responsibilities Aniket handled during his internship?', 'What project did Aniket undertake to assist visually impaired individuals?']\n",
      "\n",
      "outputs = ['Aniket Rajendra Thorat is currently working as a Senior Software Engineer at Persistent Systems.', 'Aniket specializes in Generative AI, Machine Learning, Deep Learning, and AI/ML Ops. He also possesses expertise in Natural Language Processing, Neural Network Architecture Design, Model Deployment & Optimization, Computer Vision, and Algorithm Development.', \"Some of Aniket's notable achievements include being the topper in the GEMS category for the Persistent 2022 batch, receiving multiple Bravo Awards from the CTO, and earning the Best Project Honor in February 2019 for technical excellence.\", 'During his internship, Aniket conducted research and development activities focused on AI applications for home automation. He contributed to innovative product development and automation solutions.', 'Aniket developed \"Root Navigation for Blind Person,\" an assistant tool that helps visually impaired individuals navigate and find routes.']\n"
     ]
    }
   ],
   "source": [
    "import PyPDF2\n",
    "from langchain_google_genai import ChatGoogleGenerativeAI\n",
    "from langchain_core.prompts import ChatPromptTemplate\n",
    "from langchain_core.output_parsers import PydanticOutputParser\n",
    "from pydantic import BaseModel, Field\n",
    "from typing import List\n",
    "import os\n",
    "\n",
    "# Ensure you have set the GOOGLE_API_KEY environment variable\n",
    "\n",
    "# Function to extract text from PDF\n",
    "def extract_text_from_pdf(pdf_path):\n",
    "    with open(pdf_path, 'rb') as file:\n",
    "        reader = PyPDF2.PdfReader(file)\n",
    "        text = \"\"\n",
    "        for page in reader.pages:\n",
    "            text += page.extract_text()\n",
    "    return text\n",
    "\n",
    "# Define the output structure\n",
    "class QAPairs(BaseModel):\n",
    "    inputs: List[str] = Field(description=\"A list of questions about the document\")\n",
    "    outputs: List[str] = Field(description=\"A list of answers corresponding to the questions\")\n",
    "\n",
    "# Initialize LLM\n",
    "llm = ChatGoogleGenerativeAI(\n",
    "    model=\"gemini-1.5-pro\",\n",
    "    temperature=0,\n",
    "    max_tokens=None,\n",
    "    timeout=None,\n",
    "    max_retries=2,\n",
    ")\n",
    "\n",
    "# Define output parser\n",
    "output_parser = PydanticOutputParser(pydantic_object=QAPairs)\n",
    "\n",
    "# Create prompt template\n",
    "prompt_template = ChatPromptTemplate.from_template(\n",
    "    \"\"\"\n",
    "    Given the following document, generate 5 question-answer pairs about the content.\n",
    "    \n",
    "    Document:\n",
    "    {document}\n",
    "    \n",
    "    {format_instructions}\n",
    "    \"\"\"\n",
    ")\n",
    "\n",
    "# Extract text from PDF\n",
    "pdf_path = \"C:/code/qp-ai-assessment/api/misc/fileupload/resume.pdf\"  # Replace with your PDF path\n",
    "document_text = extract_text_from_pdf(pdf_path)\n",
    "\n",
    "# Generate questions and answers\n",
    "prompt = prompt_template.format(\n",
    "    document=document_text,\n",
    "    format_instructions=output_parser.get_format_instructions()\n",
    ")\n",
    "response = llm.invoke(prompt)\n",
    "\n",
    "# Parse the response\n",
    "parsed_output = output_parser.parse(response.content)\n",
    "\n",
    "# Print the result\n",
    "print(\"inputs =\", parsed_output.inputs)\n",
    "print(\"\\noutputs =\", parsed_output.outputs)\n"
   ]
  },
  {
   "cell_type": "code",
   "execution_count": null,
   "id": "fa6b4bdb-64fe-4970-894f-b05d22f875e1",
   "metadata": {},
   "outputs": [],
   "source": []
  },
  {
   "cell_type": "code",
   "execution_count": null,
   "id": "ee61470b-668c-401e-8c35-077d13734b70",
   "metadata": {},
   "outputs": [],
   "source": []
  },
  {
   "cell_type": "code",
   "execution_count": null,
   "id": "52ecbf3a-8f99-4fe2-b8f3-f2da933f108d",
   "metadata": {},
   "outputs": [],
   "source": []
  },
  {
   "cell_type": "code",
   "execution_count": null,
   "id": "b64ad368-05aa-426d-8d06-acf71218ec1e",
   "metadata": {},
   "outputs": [],
   "source": []
  },
  {
   "cell_type": "code",
   "execution_count": 1,
   "id": "59717cf6-51b4-4511-a755-860fed587535",
   "metadata": {},
   "outputs": [],
   "source": [
    "conis=[1,2,5,6]\n",
    "coin=7\n",
    "ways=[0]*(coin+1)\n",
    "ways[0]=conis[0]\n",
    "for i enumerate"
   ]
  },
  {
   "cell_type": "code",
   "execution_count": 2,
   "id": "06057206-641e-42ab-91ec-cb3215af9d58",
   "metadata": {},
   "outputs": [
    {
     "data": {
      "text/plain": [
       "[0, 0, 0, 0, 0, 0, 0, 0]"
      ]
     },
     "execution_count": 2,
     "metadata": {},
     "output_type": "execute_result"
    }
   ],
   "source": []
  },
  {
   "cell_type": "code",
   "execution_count": 6,
   "id": "0ad7f160-a78b-46d8-92fd-bdd9c967570d",
   "metadata": {},
   "outputs": [
    {
     "data": {
      "text/plain": [
       "False"
      ]
     },
     "execution_count": 6,
     "metadata": {},
     "output_type": "execute_result"
    }
   ],
   "source": [
    "3<2"
   ]
  },
  {
   "cell_type": "code",
   "execution_count": null,
   "id": "0f25e1ae-a950-403e-9c89-743bb0fedbba",
   "metadata": {},
   "outputs": [],
   "source": [
    "while [1] and [1,2]:\n",
    "    print()"
   ]
  }
 ],
 "metadata": {
  "kernelspec": {
   "display_name": "Python 3 (ipykernel)",
   "language": "python",
   "name": "python3"
  },
  "language_info": {
   "codemirror_mode": {
    "name": "ipython",
    "version": 3
   },
   "file_extension": ".py",
   "mimetype": "text/x-python",
   "name": "python",
   "nbconvert_exporter": "python",
   "pygments_lexer": "ipython3",
   "version": "3.12.7"
  }
 },
 "nbformat": 4,
 "nbformat_minor": 5
}
